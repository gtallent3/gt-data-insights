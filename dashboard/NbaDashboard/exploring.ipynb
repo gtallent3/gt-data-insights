{
 "cells": [
  {
   "cell_type": "code",
   "execution_count": 1,
   "id": "512eeeba",
   "metadata": {},
   "outputs": [],
   "source": [
    "import pandas as pd\n",
    "import matplotlib.pyplot as plt\n",
    "import seaborn as sns\n",
    "import plotly.express as px\n",
    "\n",
    "# Optional: For display aesthetics\n",
    "pd.set_option('display.float_format', lambda x: '%.2f' % x)"
   ]
  },
  {
   "cell_type": "code",
   "execution_count": 2,
   "id": "2d271de0",
   "metadata": {},
   "outputs": [
    {
     "name": "stdout",
     "output_type": "stream",
     "text": [
      "Index(['Rk', 'Team', 'Age', 'W', 'L', 'PW', 'PL', 'MOV', 'SOS', 'SRS', 'ORtg',\n",
      "       'DRtg', 'NRtg', 'Pace', 'FTr', '3PAr', 'TS%',\n",
      "       'Offense Four Factors eFG%', 'Offense Four Factors TOV%',\n",
      "       'Offense Four Factors ORB%', 'Offense Four Factors FT/FGA',\n",
      "       'Defense Four Factors eFG%', 'Defense Four Factors TOV%',\n",
      "       'Defense Four Factors DRB%', 'Defense Four Factors FT/FGA', 'Arena',\n",
      "       'Attend.', 'Attend./G', 'Season'],\n",
      "      dtype='object')\n",
      "Index(['Rk', 'Team', 'G', 'MP', 'FG', 'FGA', 'FG%', '3P', '3PA', '3P%', '2P',\n",
      "       '2PA', '2P%', 'FT', 'FTA', 'FT%', 'ORB', 'DRB', 'TRB', 'AST', 'STL',\n",
      "       'BLK', 'TOV', 'PF', 'PTS', 'Season'],\n",
      "      dtype='object')\n"
     ]
    }
   ],
   "source": [
    "# Load Zillow datasets from the datasets/ folder\n",
    "nba_advanced = pd.read_csv(\"datasets/nba_advanced_2010_2024.csv\")\n",
    "\n",
    "nba_advanced.columns = [col.split()[-1] if 'Unnamed' in col else col for col in nba_advanced.columns]\n",
    "\n",
    "# Optional: clean whitespace\n",
    "nba_advanced.columns = [col.strip() for col in nba_advanced.columns]\n",
    "\n",
    "nba_advanced = nba_advanced[[col for col in nba_advanced.columns if \"level\" not in col]]\n",
    "\n",
    "# Preview cleaned DataFrame\n",
    "print(nba_advanced.columns)\n",
    "\n",
    "\n",
    "nba_pg = pd.read_csv(\"datasets/nba_per_game_2010_2024.csv\")\n",
    "\n",
    "print(nba_pg.columns)\n"
   ]
  },
  {
   "cell_type": "code",
   "execution_count": 3,
   "id": "cb1ee263",
   "metadata": {},
   "outputs": [
    {
     "name": "stdout",
     "output_type": "stream",
     "text": [
      "Index(['Season', 'Team', 'Age', 'W', 'L', 'PW', 'PL', 'MOV', 'SOS', 'SRS',\n",
      "       'ORtg', 'DRtg', 'NRtg', 'Pace', 'FTr', '3PAr', 'TS%',\n",
      "       'Offense Four Factors eFG%', 'Offense Four Factors TOV%',\n",
      "       'Offense Four Factors ORB%', 'Offense Four Factors FT/FGA',\n",
      "       'Defense Four Factors eFG%', 'Defense Four Factors TOV%',\n",
      "       'Defense Four Factors DRB%', 'Defense Four Factors FT/FGA', 'Arena',\n",
      "       'Attend.', 'Attend./G', 'G', 'MP', 'FG', 'FGA', 'FG%', '3P', '3PA',\n",
      "       '3P%', '2P', '2PA', '2P%', 'FT', 'FTA', 'FT%', 'ORB', 'DRB', 'TRB',\n",
      "       'AST', 'STL', 'BLK', 'TOV', 'PF', 'PTS', 'Playoffs'],\n",
      "      dtype='object')\n"
     ]
    },
    {
     "data": {
      "text/html": [
       "<div>\n",
       "<style scoped>\n",
       "    .dataframe tbody tr th:only-of-type {\n",
       "        vertical-align: middle;\n",
       "    }\n",
       "\n",
       "    .dataframe tbody tr th {\n",
       "        vertical-align: top;\n",
       "    }\n",
       "\n",
       "    .dataframe thead th {\n",
       "        text-align: right;\n",
       "    }\n",
       "</style>\n",
       "<table border=\"1\" class=\"dataframe\">\n",
       "  <thead>\n",
       "    <tr style=\"text-align: right;\">\n",
       "      <th></th>\n",
       "      <th>Season</th>\n",
       "      <th>Team</th>\n",
       "      <th>Age</th>\n",
       "      <th>W</th>\n",
       "      <th>L</th>\n",
       "      <th>PW</th>\n",
       "      <th>PL</th>\n",
       "      <th>MOV</th>\n",
       "      <th>SOS</th>\n",
       "      <th>SRS</th>\n",
       "      <th>...</th>\n",
       "      <th>ORB</th>\n",
       "      <th>DRB</th>\n",
       "      <th>TRB</th>\n",
       "      <th>AST</th>\n",
       "      <th>STL</th>\n",
       "      <th>BLK</th>\n",
       "      <th>TOV</th>\n",
       "      <th>PF</th>\n",
       "      <th>PTS</th>\n",
       "      <th>Playoffs</th>\n",
       "    </tr>\n",
       "  </thead>\n",
       "  <tbody>\n",
       "    <tr>\n",
       "      <th>0</th>\n",
       "      <td>2009-10</td>\n",
       "      <td>Orlando Magic</td>\n",
       "      <td>27.9</td>\n",
       "      <td>59</td>\n",
       "      <td>23</td>\n",
       "      <td>61</td>\n",
       "      <td>21</td>\n",
       "      <td>7.49</td>\n",
       "      <td>-0.37</td>\n",
       "      <td>7.12</td>\n",
       "      <td>...</td>\n",
       "      <td>9.9</td>\n",
       "      <td>33.4</td>\n",
       "      <td>43.2</td>\n",
       "      <td>19.7</td>\n",
       "      <td>6.2</td>\n",
       "      <td>5.6</td>\n",
       "      <td>14.1</td>\n",
       "      <td>19.9</td>\n",
       "      <td>102.8</td>\n",
       "      <td>True</td>\n",
       "    </tr>\n",
       "    <tr>\n",
       "      <th>1</th>\n",
       "      <td>2009-10</td>\n",
       "      <td>Cleveland Cavaliers</td>\n",
       "      <td>28.0</td>\n",
       "      <td>61</td>\n",
       "      <td>21</td>\n",
       "      <td>59</td>\n",
       "      <td>23</td>\n",
       "      <td>6.52</td>\n",
       "      <td>-0.36</td>\n",
       "      <td>6.17</td>\n",
       "      <td>...</td>\n",
       "      <td>9.6</td>\n",
       "      <td>32.8</td>\n",
       "      <td>42.5</td>\n",
       "      <td>22.4</td>\n",
       "      <td>6.9</td>\n",
       "      <td>5.2</td>\n",
       "      <td>13.9</td>\n",
       "      <td>19.4</td>\n",
       "      <td>102.1</td>\n",
       "      <td>True</td>\n",
       "    </tr>\n",
       "    <tr>\n",
       "      <th>2</th>\n",
       "      <td>2009-10</td>\n",
       "      <td>Utah Jazz</td>\n",
       "      <td>25.6</td>\n",
       "      <td>53</td>\n",
       "      <td>29</td>\n",
       "      <td>55</td>\n",
       "      <td>27</td>\n",
       "      <td>5.34</td>\n",
       "      <td>-0.01</td>\n",
       "      <td>5.33</td>\n",
       "      <td>...</td>\n",
       "      <td>10.6</td>\n",
       "      <td>31.6</td>\n",
       "      <td>42.2</td>\n",
       "      <td>26.7</td>\n",
       "      <td>8.2</td>\n",
       "      <td>4.9</td>\n",
       "      <td>15.2</td>\n",
       "      <td>22.7</td>\n",
       "      <td>104.2</td>\n",
       "      <td>True</td>\n",
       "    </tr>\n",
       "    <tr>\n",
       "      <th>3</th>\n",
       "      <td>2009-10</td>\n",
       "      <td>San Antonio Spurs</td>\n",
       "      <td>28.7</td>\n",
       "      <td>50</td>\n",
       "      <td>32</td>\n",
       "      <td>55</td>\n",
       "      <td>27</td>\n",
       "      <td>5.09</td>\n",
       "      <td>-0.02</td>\n",
       "      <td>5.07</td>\n",
       "      <td>...</td>\n",
       "      <td>10.8</td>\n",
       "      <td>32.0</td>\n",
       "      <td>42.8</td>\n",
       "      <td>22.3</td>\n",
       "      <td>6.3</td>\n",
       "      <td>4.6</td>\n",
       "      <td>13.6</td>\n",
       "      <td>20.4</td>\n",
       "      <td>101.4</td>\n",
       "      <td>True</td>\n",
       "    </tr>\n",
       "    <tr>\n",
       "      <th>4</th>\n",
       "      <td>2009-10</td>\n",
       "      <td>Atlanta Hawks</td>\n",
       "      <td>26.5</td>\n",
       "      <td>53</td>\n",
       "      <td>29</td>\n",
       "      <td>54</td>\n",
       "      <td>28</td>\n",
       "      <td>4.66</td>\n",
       "      <td>-0.22</td>\n",
       "      <td>4.44</td>\n",
       "      <td>...</td>\n",
       "      <td>11.8</td>\n",
       "      <td>29.9</td>\n",
       "      <td>41.7</td>\n",
       "      <td>21.8</td>\n",
       "      <td>7.2</td>\n",
       "      <td>5.0</td>\n",
       "      <td>12.0</td>\n",
       "      <td>19.9</td>\n",
       "      <td>101.7</td>\n",
       "      <td>True</td>\n",
       "    </tr>\n",
       "  </tbody>\n",
       "</table>\n",
       "<p>5 rows × 52 columns</p>\n",
       "</div>"
      ],
      "text/plain": [
       "    Season                 Team   Age   W   L  PW  PL   MOV    SOS   SRS  ...  \\\n",
       "0  2009-10        Orlando Magic  27.9  59  23  61  21  7.49  -0.37  7.12  ...   \n",
       "1  2009-10  Cleveland Cavaliers  28.0  61  21  59  23  6.52  -0.36  6.17  ...   \n",
       "2  2009-10            Utah Jazz  25.6  53  29  55  27  5.34  -0.01  5.33  ...   \n",
       "3  2009-10    San Antonio Spurs  28.7  50  32  55  27  5.09  -0.02  5.07  ...   \n",
       "4  2009-10        Atlanta Hawks  26.5  53  29  54  28  4.66  -0.22  4.44  ...   \n",
       "\n",
       "    ORB   DRB   TRB   AST  STL  BLK   TOV    PF    PTS Playoffs  \n",
       "0   9.9  33.4  43.2  19.7  6.2  5.6  14.1  19.9  102.8     True  \n",
       "1   9.6  32.8  42.5  22.4  6.9  5.2  13.9  19.4  102.1     True  \n",
       "2  10.6  31.6  42.2  26.7  8.2  4.9  15.2  22.7  104.2     True  \n",
       "3  10.8  32.0  42.8  22.3  6.3  4.6  13.6  20.4  101.4     True  \n",
       "4  11.8  29.9  41.7  21.8  7.2  5.0  12.0  19.9  101.7     True  \n",
       "\n",
       "[5 rows x 52 columns]"
      ]
     },
     "execution_count": 3,
     "metadata": {},
     "output_type": "execute_result"
    }
   ],
   "source": [
    "merged = pd.merge(nba_advanced, nba_pg, on=[\"Team\", \"Season\"], how=\"inner\")\n",
    "\n",
    "merged = merged.drop(columns=[\"Rk_x\", \"Rk_y\"])\n",
    "\n",
    "cols = merged.columns.tolist()\n",
    "cols.remove(\"Season\")\n",
    "cols.remove(\"Team\")\n",
    "\n",
    "# Reorder\n",
    "merged = merged[[\"Season\", \"Team\"] + cols]\n",
    "\n",
    "# Create a new boolean column indicating playoff status\n",
    "merged['Playoffs'] = merged['Team'].str.contains(r'\\*', regex=True)\n",
    "\n",
    "# Clean team names (remove asterisk)\n",
    "merged['Team'] = merged['Team'].str.replace('*', '', regex=False).str.strip()\n",
    "\n",
    "print(merged.columns)\n",
    "merged.head()"
   ]
  },
  {
   "cell_type": "code",
   "execution_count": 9,
   "id": "7bfa24e5",
   "metadata": {},
   "outputs": [],
   "source": [
    "merged.to_csv(\"nba_team_combined_2010_2024.csv\", index=False)"
   ]
  },
  {
   "cell_type": "code",
   "execution_count": 4,
   "id": "080974ec",
   "metadata": {},
   "outputs": [
    {
     "data": {
      "text/plain": [
       "Season                          object\n",
       "Team                            object\n",
       "Age                            float64\n",
       "W                              float64\n",
       "L                              float64\n",
       "PW                             float64\n",
       "PL                             float64\n",
       "MOV                            float64\n",
       "SOS                            float64\n",
       "SRS                            float64\n",
       "ORtg                           float64\n",
       "DRtg                           float64\n",
       "NRtg                           float64\n",
       "Pace                           float64\n",
       "FTr                            float64\n",
       "3PAr                           float64\n",
       "TS%                            float64\n",
       "Offense Four Factors eFG%      float64\n",
       "Offense Four Factors TOV%      float64\n",
       "Offense Four Factors ORB%      float64\n",
       "Offense Four Factors FT/FGA    float64\n",
       "Defense Four Factors eFG%      float64\n",
       "Defense Four Factors TOV%      float64\n",
       "Defense Four Factors DRB%      float64\n",
       "Defense Four Factors FT/FGA    float64\n",
       "Arena                           object\n",
       "Attend.                        float64\n",
       "Attend./G                      float64\n",
       "G                              float64\n",
       "MP                             float64\n",
       "FG                             float64\n",
       "FGA                            float64\n",
       "FG%                            float64\n",
       "3P                             float64\n",
       "3PA                            float64\n",
       "3P%                            float64\n",
       "2P                             float64\n",
       "2PA                            float64\n",
       "2P%                            float64\n",
       "FT                             float64\n",
       "FTA                            float64\n",
       "FT%                            float64\n",
       "ORB                            float64\n",
       "DRB                            float64\n",
       "TRB                            float64\n",
       "AST                            float64\n",
       "STL                            float64\n",
       "BLK                            float64\n",
       "TOV                            float64\n",
       "PF                             float64\n",
       "PTS                            float64\n",
       "Playoffs                          bool\n",
       "dtype: object"
      ]
     },
     "execution_count": 4,
     "metadata": {},
     "output_type": "execute_result"
    }
   ],
   "source": [
    "string_cols = ['Season', 'Team', 'Arena']\n",
    "\n",
    "# Convert the rest to numeric\n",
    "for col in merged.columns:\n",
    "    if col not in string_cols:\n",
    "        merged[col] = pd.to_numeric(merged[col], errors='coerce')\n",
    "\n",
    "merged.dtypes"
   ]
  },
  {
   "cell_type": "code",
   "execution_count": 5,
   "id": "f903a729",
   "metadata": {},
   "outputs": [
    {
     "data": {
      "text/html": [
       "<div>\n",
       "<style scoped>\n",
       "    .dataframe tbody tr th:only-of-type {\n",
       "        vertical-align: middle;\n",
       "    }\n",
       "\n",
       "    .dataframe tbody tr th {\n",
       "        vertical-align: top;\n",
       "    }\n",
       "\n",
       "    .dataframe thead th {\n",
       "        text-align: right;\n",
       "    }\n",
       "</style>\n",
       "<table border=\"1\" class=\"dataframe\">\n",
       "  <thead>\n",
       "    <tr style=\"text-align: right;\">\n",
       "      <th></th>\n",
       "      <th>Season</th>\n",
       "      <th>Team</th>\n",
       "      <th>Age</th>\n",
       "      <th>W</th>\n",
       "      <th>L</th>\n",
       "      <th>PW</th>\n",
       "      <th>PL</th>\n",
       "      <th>MOV</th>\n",
       "      <th>SOS</th>\n",
       "      <th>SRS</th>\n",
       "      <th>...</th>\n",
       "      <th>ORB</th>\n",
       "      <th>DRB</th>\n",
       "      <th>TRB</th>\n",
       "      <th>AST</th>\n",
       "      <th>STL</th>\n",
       "      <th>BLK</th>\n",
       "      <th>TOV</th>\n",
       "      <th>PF</th>\n",
       "      <th>PTS</th>\n",
       "      <th>Playoffs</th>\n",
       "    </tr>\n",
       "  </thead>\n",
       "  <tbody>\n",
       "    <tr>\n",
       "      <th>0</th>\n",
       "      <td>2009-10</td>\n",
       "      <td>Orlando Magic</td>\n",
       "      <td>27.90</td>\n",
       "      <td>59.00</td>\n",
       "      <td>23.00</td>\n",
       "      <td>61.00</td>\n",
       "      <td>21.00</td>\n",
       "      <td>7.49</td>\n",
       "      <td>-0.37</td>\n",
       "      <td>7.12</td>\n",
       "      <td>...</td>\n",
       "      <td>9.90</td>\n",
       "      <td>33.40</td>\n",
       "      <td>43.20</td>\n",
       "      <td>19.70</td>\n",
       "      <td>6.20</td>\n",
       "      <td>5.60</td>\n",
       "      <td>14.10</td>\n",
       "      <td>19.90</td>\n",
       "      <td>102.80</td>\n",
       "      <td>True</td>\n",
       "    </tr>\n",
       "    <tr>\n",
       "      <th>1</th>\n",
       "      <td>2009-10</td>\n",
       "      <td>Cleveland Cavaliers</td>\n",
       "      <td>28.00</td>\n",
       "      <td>61.00</td>\n",
       "      <td>21.00</td>\n",
       "      <td>59.00</td>\n",
       "      <td>23.00</td>\n",
       "      <td>6.52</td>\n",
       "      <td>-0.36</td>\n",
       "      <td>6.17</td>\n",
       "      <td>...</td>\n",
       "      <td>9.60</td>\n",
       "      <td>32.80</td>\n",
       "      <td>42.50</td>\n",
       "      <td>22.40</td>\n",
       "      <td>6.90</td>\n",
       "      <td>5.20</td>\n",
       "      <td>13.90</td>\n",
       "      <td>19.40</td>\n",
       "      <td>102.10</td>\n",
       "      <td>True</td>\n",
       "    </tr>\n",
       "    <tr>\n",
       "      <th>2</th>\n",
       "      <td>2009-10</td>\n",
       "      <td>Utah Jazz</td>\n",
       "      <td>25.60</td>\n",
       "      <td>53.00</td>\n",
       "      <td>29.00</td>\n",
       "      <td>55.00</td>\n",
       "      <td>27.00</td>\n",
       "      <td>5.34</td>\n",
       "      <td>-0.01</td>\n",
       "      <td>5.33</td>\n",
       "      <td>...</td>\n",
       "      <td>10.60</td>\n",
       "      <td>31.60</td>\n",
       "      <td>42.20</td>\n",
       "      <td>26.70</td>\n",
       "      <td>8.20</td>\n",
       "      <td>4.90</td>\n",
       "      <td>15.20</td>\n",
       "      <td>22.70</td>\n",
       "      <td>104.20</td>\n",
       "      <td>True</td>\n",
       "    </tr>\n",
       "    <tr>\n",
       "      <th>3</th>\n",
       "      <td>2009-10</td>\n",
       "      <td>San Antonio Spurs</td>\n",
       "      <td>28.70</td>\n",
       "      <td>50.00</td>\n",
       "      <td>32.00</td>\n",
       "      <td>55.00</td>\n",
       "      <td>27.00</td>\n",
       "      <td>5.09</td>\n",
       "      <td>-0.02</td>\n",
       "      <td>5.07</td>\n",
       "      <td>...</td>\n",
       "      <td>10.80</td>\n",
       "      <td>32.00</td>\n",
       "      <td>42.80</td>\n",
       "      <td>22.30</td>\n",
       "      <td>6.30</td>\n",
       "      <td>4.60</td>\n",
       "      <td>13.60</td>\n",
       "      <td>20.40</td>\n",
       "      <td>101.40</td>\n",
       "      <td>True</td>\n",
       "    </tr>\n",
       "    <tr>\n",
       "      <th>4</th>\n",
       "      <td>2009-10</td>\n",
       "      <td>Atlanta Hawks</td>\n",
       "      <td>26.50</td>\n",
       "      <td>53.00</td>\n",
       "      <td>29.00</td>\n",
       "      <td>54.00</td>\n",
       "      <td>28.00</td>\n",
       "      <td>4.66</td>\n",
       "      <td>-0.22</td>\n",
       "      <td>4.44</td>\n",
       "      <td>...</td>\n",
       "      <td>11.80</td>\n",
       "      <td>29.90</td>\n",
       "      <td>41.70</td>\n",
       "      <td>21.80</td>\n",
       "      <td>7.20</td>\n",
       "      <td>5.00</td>\n",
       "      <td>12.00</td>\n",
       "      <td>19.90</td>\n",
       "      <td>101.70</td>\n",
       "      <td>True</td>\n",
       "    </tr>\n",
       "  </tbody>\n",
       "</table>\n",
       "<p>5 rows × 52 columns</p>\n",
       "</div>"
      ],
      "text/plain": [
       "    Season                 Team   Age     W     L    PW    PL  MOV   SOS  SRS  \\\n",
       "0  2009-10        Orlando Magic 27.90 59.00 23.00 61.00 21.00 7.49 -0.37 7.12   \n",
       "1  2009-10  Cleveland Cavaliers 28.00 61.00 21.00 59.00 23.00 6.52 -0.36 6.17   \n",
       "2  2009-10            Utah Jazz 25.60 53.00 29.00 55.00 27.00 5.34 -0.01 5.33   \n",
       "3  2009-10    San Antonio Spurs 28.70 50.00 32.00 55.00 27.00 5.09 -0.02 5.07   \n",
       "4  2009-10        Atlanta Hawks 26.50 53.00 29.00 54.00 28.00 4.66 -0.22 4.44   \n",
       "\n",
       "   ...   ORB   DRB   TRB   AST  STL  BLK   TOV    PF    PTS  Playoffs  \n",
       "0  ...  9.90 33.40 43.20 19.70 6.20 5.60 14.10 19.90 102.80      True  \n",
       "1  ...  9.60 32.80 42.50 22.40 6.90 5.20 13.90 19.40 102.10      True  \n",
       "2  ... 10.60 31.60 42.20 26.70 8.20 4.90 15.20 22.70 104.20      True  \n",
       "3  ... 10.80 32.00 42.80 22.30 6.30 4.60 13.60 20.40 101.40      True  \n",
       "4  ... 11.80 29.90 41.70 21.80 7.20 5.00 12.00 19.90 101.70      True  \n",
       "\n",
       "[5 rows x 52 columns]"
      ]
     },
     "execution_count": 5,
     "metadata": {},
     "output_type": "execute_result"
    }
   ],
   "source": [
    "merged.head()"
   ]
  },
  {
   "cell_type": "code",
   "execution_count": null,
   "id": "37cd7299",
   "metadata": {},
   "outputs": [
    {
     "data": {
      "application/vnd.plotly.v1+json": {
       "config": {
        "plotlyServerURL": "https://plot.ly"
       },
       "data": [
        {
         "hovertemplate": "<b>%{hovertext}</b><br><br>Season=2009-10<br>3P%=%{x}<br>W=%{y}<extra></extra>",
         "hovertext": [
          "Orlando Magic",
          "Cleveland Cavaliers",
          "Utah Jazz",
          "San Antonio Spurs",
          "Atlanta Hawks",
          "Phoenix Suns",
          "Los Angeles Lakers",
          "Denver Nuggets",
          "Boston Celtics",
          "Portland Trail Blazers",
          "Team",
          "Team",
          "Oklahoma City Thunder",
          "Dallas Mavericks",
          "Miami Heat",
          "Milwaukee Bucks",
          "Charlotte Bobcats",
          "Houston Rockets",
          "Memphis Grizzlies",
          "Chicago Bulls",
          "Toronto Raptors",
          "New Orleans Hornets",
          "Team",
          "Team",
          "Indiana Pacers",
          "Golden State Warriors",
          "New York Knicks",
          "Philadelphia 76ers",
          "Sacramento Kings",
          "Washington Wizards",
          "Detroit Pistons",
          "Los Angeles Clippers",
          "Minnesota Timberwolves",
          "New Jersey Nets"
         ],
         "legendgroup": "2009-10",
         "marker": {
          "color": "#636efa",
          "symbol": "circle"
         },
         "mode": "markers",
         "name": "2009-10",
         "orientation": "v",
         "showlegend": true,
         "type": "scatter",
         "x": {
          "bdata": "AAAAAAAA2D/8qfHSTWLYP7Kd76fGS9c/tvP91Hjp1j8K16NwPQrXP5HtfD81Xto/bef7qfHS1T9g5dAi2/nWPxKDwMqhRdY/Di2yne+n1j8AAAAAAAD4fwAAAAAAAPh/w/UoXI/C1T8CK4cW2c7XP76fGi/dJNY/YhBYObTI1j++nxov3STWPxBYObTIdtY/xSCwcmiR1T8fhetRuB7VP1g5tMh2vtc/CKwcWmQ71z8AAAAAAAD4fwAAAAAAAPh/EoPAyqFF1j8AAAAAAADYP76fGi/dJNY/wcqhRbbz1T+8dJMYBFbWP2Q730+Nl9Y/f2q8dJMY1D9zaJHtfD/VP23n+6nx0tU/JzEIrBxa1D8=",
          "dtype": "f8"
         },
         "xaxis": "x",
         "y": {
          "bdata": "AAAAAACATUAAAAAAAIBOQAAAAAAAgEpAAAAAAAAASUAAAAAAAIBKQAAAAAAAAEtAAAAAAACATEAAAAAAAIBKQAAAAAAAAElAAAAAAAAASUAAAAAAAAD4fwAAAAAAAPh/AAAAAAAASUAAAAAAAIBLQAAAAAAAgEdAAAAAAAAAR0AAAAAAAABGQAAAAAAAAEVAAAAAAAAAREAAAAAAAIBEQAAAAAAAAERAAAAAAACAQkAAAAAAAAD4fwAAAAAAAPh/AAAAAAAAQEAAAAAAAAA6QAAAAAAAAD1AAAAAAAAAO0AAAAAAAAA5QAAAAAAAADpAAAAAAAAAO0AAAAAAAAA9QAAAAAAAAC5AAAAAAAAAKEA=",
          "dtype": "f8"
         },
         "yaxis": "y"
        },
        {
         "hovertemplate": "<b>%{hovertext}</b><br><br>Season=2010-11<br>3P%=%{x}<br>W=%{y}<extra></extra>",
         "hovertext": [
          "Miami Heat",
          "Chicago Bulls",
          "Los Angeles Lakers",
          "San Antonio Spurs",
          "Boston Celtics",
          "Orlando Magic",
          "Denver Nuggets",
          "Dallas Mavericks",
          "Oklahoma City Thunder",
          "Memphis Grizzlies",
          "Team",
          "Team",
          "Houston Rockets",
          "Portland Trail Blazers",
          "Philadelphia 76ers",
          "New Orleans Hornets",
          "New York Knicks",
          "Milwaukee Bucks",
          "Phoenix Suns",
          "Atlanta Hawks",
          "Indiana Pacers",
          "Utah Jazz",
          "Team",
          "Team",
          "Golden State Warriors",
          "Los Angeles Clippers",
          "Detroit Pistons",
          "Charlotte Bobcats",
          "Sacramento Kings",
          "New Jersey Nets",
          "Toronto Raptors",
          "Minnesota Timberwolves",
          "Washington Wizards",
          "Cleveland Cavaliers"
         ],
         "legendgroup": "2010-11",
         "marker": {
          "color": "#EF553B",
          "symbol": "circle"
         },
         "mode": "markers",
         "name": "2010-11",
         "orientation": "v",
         "showlegend": true,
         "type": "scatter",
         "x": {
          "bdata": "rkfhehSu1z+0yHa+nxrXP7pJDAIrh9Y/nMQgsHJo2T9cj8L1KFzXPwaBlUOLbNc/okW28/3U2D9cj8L1KFzXP2iR7Xw/NdY/x0s3iUFg1T8AAAAAAAD4fwAAAAAAAPh/sHJoke181z8UrkfhehTWP7gehetRuNY/CtejcD0K1z9aZDvfT43XPxfZzvdT49U/VOOlm8Qg2D+6SQwCK4fWPw4tsp3vp9Y/vp8aL90k1j8AAAAAAAD4fwAAAAAAAPh/SgwCK4cW2T9vEoPAyqHVP6rx0k1iENg/IbByaJHt1D9xPQrXo3DVP8HKoUW289U/001iEFg51D+q8dJNYhDYP3Noke18P9U/F9nO91Pj1T8=",
          "dtype": "f8"
         },
         "xaxis": "x",
         "y": {
          "bdata": "AAAAAAAATUAAAAAAAABPQAAAAAAAgExAAAAAAACATkAAAAAAAABMQAAAAAAAAEpAAAAAAAAASUAAAAAAAIBMQAAAAAAAgEtAAAAAAAAAR0AAAAAAAAD4fwAAAAAAAPh/AAAAAACARUAAAAAAAABIQAAAAAAAgERAAAAAAAAAR0AAAAAAAABFQAAAAAAAgEFAAAAAAAAAREAAAAAAAABGQAAAAAAAgEJAAAAAAACAQ0AAAAAAAAD4fwAAAAAAAPh/AAAAAAAAQkAAAAAAAABAQAAAAAAAAD5AAAAAAAAAQUAAAAAAAAA4QAAAAAAAADhAAAAAAAAANkAAAAAAAAAxQAAAAAAAADdAAAAAAAAAM0A=",
          "dtype": "f8"
         },
         "yaxis": "y"
        },
        {
         "hovertemplate": "<b>%{hovertext}</b><br><br>Season=2011-12<br>3P%=%{x}<br>W=%{y}<extra></extra>",
         "hovertext": [
          "Chicago Bulls",
          "San Antonio Spurs",
          "Oklahoma City Thunder",
          "Miami Heat",
          "Philadelphia 76ers",
          "Atlanta Hawks",
          "Indiana Pacers",
          "New York Knicks",
          "Denver Nuggets",
          "Boston Celtics",
          "Team",
          "Team",
          "Los Angeles Clippers",
          "Memphis Grizzlies",
          "Los Angeles Lakers",
          "Dallas Mavericks",
          "Orlando Magic",
          "Utah Jazz",
          "Milwaukee Bucks",
          "Houston Rockets",
          "Phoenix Suns",
          "Portland Trail Blazers",
          "Team",
          "Team",
          "Minnesota Timberwolves",
          "Golden State Warriors",
          "Toronto Raptors",
          "New Orleans Hornets",
          "Washington Wizards",
          "Detroit Pistons",
          "Sacramento Kings",
          "New Jersey Nets",
          "Cleveland Cavaliers",
          "Charlotte Bobcats"
         ],
         "legendgroup": "2011-12",
         "marker": {
          "color": "#00cc96",
          "symbol": "circle"
         },
         "mode": "markers",
         "name": "2011-12",
         "orientation": "v",
         "showlegend": true,
         "type": "scatter",
         "x": {
          "bdata": "AAAAAAAA2D/0/dR46SbZP7bz/dR46dY/YOXQItv51j9eukkMAivXP65H4XoUrtc/WmQ730+N1z8bL90kBoHVP3Noke18P9U/sHJoke181z8AAAAAAAD4fwAAAAAAAPh/DAIrhxbZ1j93vp8aL93UP3e+nxov3dQ/GQRWDi2y1T8AAAAAAADYP3npJjEIrNQ/FK5H4XoU1j9g5dAi2/nWP8HKoUW289U/vp8aL90k1j8AAAAAAAD4fwAAAAAAAPh/c2iR7Xw/1T+iRbbz/dTYP8P1KFyPwtU/HVpkO99P1T97FK5H4XrUP76fGi/dJNY/001iEFg51D8X2c73U+PVP76fGi/dJNY/4XoUrkfh0j8=",
          "dtype": "f8"
         },
         "xaxis": "x",
         "y": {
          "bdata": "AAAAAAAASUAAAAAAAABJQAAAAAAAgEdAAAAAAAAAR0AAAAAAAIBBQAAAAAAAAERAAAAAAAAARUAAAAAAAABCQAAAAAAAAENAAAAAAACAQ0AAAAAAAAD4fwAAAAAAAPh/AAAAAAAAREAAAAAAAIBEQAAAAAAAgERAAAAAAAAAQkAAAAAAAIBCQAAAAAAAAEJAAAAAAAAAP0AAAAAAAABBQAAAAAAAgEBAAAAAAAAAPEAAAAAAAAD4fwAAAAAAAPh/AAAAAAAAOkAAAAAAAAA3QAAAAAAAADdAAAAAAAAANUAAAAAAAAA0QAAAAAAAADlAAAAAAAAANkAAAAAAAAA2QAAAAAAAADVAAAAAAAAAHEA=",
          "dtype": "f8"
         },
         "yaxis": "y"
        },
        {
         "hovertemplate": "<b>%{hovertext}</b><br><br>Season=2012-13<br>3P%=%{x}<br>W=%{y}<extra></extra>",
         "hovertext": [
          "Oklahoma City Thunder",
          "Miami Heat",
          "Los Angeles Clippers",
          "San Antonio Spurs",
          "Denver Nuggets",
          "New York Knicks",
          "Memphis Grizzlies",
          "Indiana Pacers",
          "Houston Rockets",
          "Brooklyn Nets",
          "Team",
          "Team",
          "Los Angeles Lakers",
          "Golden State Warriors",
          "Atlanta Hawks",
          "Chicago Bulls",
          "Utah Jazz",
          "Boston Celtics",
          "Dallas Mavericks",
          "Milwaukee Bucks",
          "Toronto Raptors",
          "Minnesota Timberwolves",
          "Team",
          "Team",
          "Washington Wizards",
          "Portland Trail Blazers",
          "Philadelphia 76ers",
          "Detroit Pistons",
          "New Orleans Hornets",
          "Cleveland Cavaliers",
          "Sacramento Kings",
          "Phoenix Suns",
          "Orlando Magic",
          "Charlotte Bobcats"
         ],
         "legendgroup": "2012-13",
         "marker": {
          "color": "#ab63fa",
          "symbol": "circle"
         },
         "mode": "markers",
         "name": "2012-13",
         "orientation": "v",
         "showlegend": true,
         "type": "scatter",
         "x": {
          "bdata": "VOOlm8Qg2D/y0k1iEFjZP7bz/dR46dY/qvHSTWIQ2D/ByqFFtvPVP6rx0k1iENg/FK5H4XoU1j9oke18PzXWPwaBlUOLbNc/DAIrhxbZ1j8AAAAAAAD4fwAAAAAAAPh/uB6F61G41j+YbhKDwMrZP1g5tMh2vtc/ZDvfT42X1j8GgZVDi2zXP7bz/dR46dY/AiuHFtnO1z8K16NwPQrXP8HKoUW289U/hetRuB6F0z8AAAAAAAD4fwAAAAAAAPh/XI/C9Shc1z9kO99PjZfWPwrXo3A9Ctc/YhBYObTI1j8IrBxaZDvXP76fGi/dJNY/CKwcWmQ71z8fhetRuB7VP3WTGARWDtU/cT0K16Nw1T8=",
          "dtype": "f8"
         },
         "xaxis": "x",
         "y": {
          "bdata": "AAAAAAAATkAAAAAAAIBQQAAAAAAAAExAAAAAAAAATUAAAAAAAIBMQAAAAAAAAEtAAAAAAAAATEAAAAAAAIBIQAAAAAAAgEZAAAAAAACASEAAAAAAAAD4fwAAAAAAAPh/AAAAAACARkAAAAAAAIBHQAAAAAAAAEZAAAAAAACARkAAAAAAAIBFQAAAAAAAgERAAAAAAACAREAAAAAAAABDQAAAAAAAAEFAAAAAAAAAP0AAAAAAAAD4fwAAAAAAAPh/AAAAAAAAPUAAAAAAAIBAQAAAAAAAAEFAAAAAAAAAPUAAAAAAAAA7QAAAAAAAADhAAAAAAAAAPEAAAAAAAAA5QAAAAAAAADRAAAAAAAAANUA=",
          "dtype": "f8"
         },
         "yaxis": "y"
        },
        {
         "hovertemplate": "<b>%{hovertext}</b><br><br>Season=2013-14<br>3P%=%{x}<br>W=%{y}<extra></extra>",
         "hovertext": [
          "San Antonio Spurs",
          "Los Angeles Clippers",
          "Oklahoma City Thunder",
          "Miami Heat",
          "Golden State Warriors",
          "Indiana Pacers",
          "Houston Rockets",
          "Portland Trail Blazers",
          "Toronto Raptors",
          "Phoenix Suns",
          "Team",
          "Team",
          "Minnesota Timberwolves",
          "Dallas Mavericks",
          "Chicago Bulls",
          "Memphis Grizzlies",
          "Washington Wizards",
          "Charlotte Bobcats",
          "Atlanta Hawks",
          "New York Knicks",
          "Brooklyn Nets",
          "Denver Nuggets",
          "Team",
          "Team",
          "New Orleans Pelicans",
          "Sacramento Kings",
          "Cleveland Cavaliers",
          "Detroit Pistons",
          "Boston Celtics",
          "Orlando Magic",
          "Los Angeles Lakers",
          "Utah Jazz",
          "Milwaukee Bucks",
          "Philadelphia 76ers"
         ],
         "legendgroup": "2013-14",
         "marker": {
          "color": "#FFA15A",
          "symbol": "circle"
         },
         "mode": "markers",
         "name": "2013-14",
         "orientation": "v",
         "showlegend": true,
         "type": "scatter",
         "x": {
          "bdata": "nMQgsHJo2T+6SQwCK4fWP7TIdr6fGtc/sp3vp8ZL1z9SuB6F61HYPwwCK4cW2dY/tvP91Hjp1j8CK4cW2c7XPwIrhxbZztc/AiuHFtnO1z8AAAAAAAD4fwAAAAAAAPh/bef7qfHS1T/6fmq8dJPYPxKDwMqhRdY/ZDvfT42X1j9SuB6F61HYPxBYObTIdtY/CKwcWmQ71z8CK4cW2c7XPwRWDi2yndc/tvP91Hjp1j8AAAAAAAD4fwAAAAAAAPh/rBxaZDvf1z8dWmQ730/VP2IQWDm0yNY/JQaBlUOL1D8dWmQ730/VP2Q730+Nl9Y//Knx0k1i2D9qvHSTGATWP2Q730+Nl9Y/K4cW2c730z8=",
          "dtype": "f8"
         },
         "xaxis": "x",
         "y": {
          "bdata": "AAAAAAAAT0AAAAAAAIBMQAAAAAAAgE1AAAAAAAAAS0AAAAAAAIBJQAAAAAAAAExAAAAAAAAAS0AAAAAAAABLQAAAAAAAAEhAAAAAAAAASEAAAAAAAAD4fwAAAAAAAPh/AAAAAAAAREAAAAAAAIBIQAAAAAAAAEhAAAAAAAAASUAAAAAAAABGQAAAAAAAgEVAAAAAAAAAQ0AAAAAAAIBCQAAAAAAAAEZAAAAAAAAAQkAAAAAAAAD4fwAAAAAAAPh/AAAAAAAAQUAAAAAAAAA8QAAAAAAAgEBAAAAAAAAAPUAAAAAAAAA5QAAAAAAAADdAAAAAAAAAO0AAAAAAAAA5QAAAAAAAAC5AAAAAAAAAM0A=",
          "dtype": "f8"
         },
         "yaxis": "y"
        },
        {
         "hovertemplate": "<b>%{hovertext}</b><br><br>Season=2014-15<br>3P%=%{x}<br>W=%{y}<extra></extra>",
         "hovertext": [
          "Golden State Warriors",
          "Los Angeles Clippers",
          "San Antonio Spurs",
          "Atlanta Hawks",
          "Cleveland Cavaliers",
          "Portland Trail Blazers",
          "Houston Rockets",
          "Memphis Grizzlies",
          "Toronto Raptors",
          "Chicago Bulls",
          "Team",
          "Team",
          "Dallas Mavericks",
          "Oklahoma City Thunder",
          "New Orleans Pelicans",
          "Washington Wizards",
          "Milwaukee Bucks",
          "Indiana Pacers",
          "Utah Jazz",
          "Boston Celtics",
          "Phoenix Suns",
          "Detroit Pistons",
          "Team",
          "Team",
          "Miami Heat",
          "Brooklyn Nets",
          "Charlotte Hornets",
          "Denver Nuggets",
          "Sacramento Kings",
          "Orlando Magic",
          "Los Angeles Lakers",
          "Minnesota Timberwolves",
          "Philadelphia 76ers",
          "New York Knicks"
         ],
         "legendgroup": "2014-15",
         "marker": {
          "color": "#19d3f3",
          "symbol": "circle"
         },
         "mode": "markers",
         "name": "2014-15",
         "orientation": "v",
         "showlegend": true,
         "type": "scatter",
         "x": {
          "bdata": "Rrbz/dR42T+q8dJNYhDYP7ByaJHtfNc/UrgehetR2D+wcmiR7XzXP166SQwCK9c/EoPAyqFF1j8ZBFYOLbLVP7pJDAIrh9Y/ZDvfT42X1j8AAAAAAAD4fwAAAAAAAPh/ukkMAiuH1j8ZBFYOLbLVP65H4XoUrtc/CtejcD0K1z8IrBxaZDvXP7pJDAIrh9Y/wcqhRbbz1T8hsHJoke3UP23n+6nx0tU/arx0kxgE1j8AAAAAAAD4fwAAAAAAAPh/cT0K16Nw1T/Jdr6fGi/VPycxCKwcWtQ/zczMzMzM1D9t5/up8dLVP2iR7Xw/NdY/arx0kxgE1j9zaJHtfD/VP3sUrkfhetQ/aJHtfD811j8=",
          "dtype": "f8"
         },
         "xaxis": "x",
         "y": {
          "bdata": "AAAAAADAUEAAAAAAAABMQAAAAAAAgEtAAAAAAAAATkAAAAAAAIBKQAAAAAAAgElAAAAAAAAATEAAAAAAAIBLQAAAAAAAgEhAAAAAAAAASUAAAAAAAAD4fwAAAAAAAPh/AAAAAAAASUAAAAAAAIBGQAAAAAAAgEZAAAAAAAAAR0AAAAAAAIBEQAAAAAAAAENAAAAAAAAAQ0AAAAAAAABEQAAAAAAAgENAAAAAAAAAQEAAAAAAAAD4fwAAAAAAAPh/AAAAAACAQkAAAAAAAABDQAAAAAAAgEBAAAAAAAAAPkAAAAAAAAA9QAAAAAAAADlAAAAAAAAANUAAAAAAAAAwQAAAAAAAADJAAAAAAAAAMUA=",
          "dtype": "f8"
         },
         "yaxis": "y"
        },
        {
         "hovertemplate": "<b>%{hovertext}</b><br><br>Season=2015-16<br>3P%=%{x}<br>W=%{y}<extra></extra>",
         "hovertext": [
          "San Antonio Spurs",
          "Golden State Warriors",
          "Oklahoma City Thunder",
          "Cleveland Cavaliers",
          "Toronto Raptors",
          "Los Angeles Clippers",
          "Atlanta Hawks",
          "Boston Celtics",
          "Charlotte Hornets",
          "Utah Jazz",
          "Team",
          "Team",
          "Miami Heat",
          "Indiana Pacers",
          "Portland Trail Blazers",
          "Detroit Pistons",
          "Houston Rockets",
          "Dallas Mavericks",
          "Washington Wizards",
          "Chicago Bulls",
          "Orlando Magic",
          "Sacramento Kings",
          "Team",
          "Team",
          "Memphis Grizzlies",
          "New York Knicks",
          "Denver Nuggets",
          "Minnesota Timberwolves",
          "New Orleans Pelicans",
          "Milwaukee Bucks",
          "Phoenix Suns",
          "Brooklyn Nets",
          "Los Angeles Lakers",
          "Philadelphia 76ers"
         ],
         "legendgroup": "2015-16",
         "marker": {
          "color": "#FF6692",
          "symbol": "circle"
         },
         "mode": "markers",
         "name": "2015-16",
         "orientation": "v",
         "showlegend": true,
         "type": "scatter",
         "x": {
          "bdata": "AAAAAAAA2D85tMh2vp/aP7x0kxgEVtY/XrpJDAIr1z+uR+F6FK7XP7Kd76fGS9c/ZmZmZmZm1j9xPQrXo3DVP166SQwCK9c/uB6F61G41j8AAAAAAAD4fwAAAAAAAPh/Gy/dJAaB1T8QWDm0yHbWP65H4XoUrtc/FK5H4XoU1j9oke18PzXWP2q8dJMYBNY/tvP91Hjp1j9YObTIdr7XP2ZmZmZmZtY/YOXQItv51j8AAAAAAAD4fwAAAAAAAPh/yXa+nxov1T++nxov3STWP28Sg8DKodU/bxKDwMqh1T8K16NwPQrXPxSuR+F6FNY/EoPAyqFF1j+6SQwCK4fWP30/NV66SdQ/GQRWDi2y1T8=",
          "dtype": "f8"
         },
         "xaxis": "x",
         "y": {
          "bdata": "AAAAAADAUEAAAAAAAEBSQAAAAAAAgEtAAAAAAACATEAAAAAAAABMQAAAAAAAgEpAAAAAAAAASEAAAAAAAABIQAAAAAAAAEhAAAAAAAAAREAAAAAAAAD4fwAAAAAAAPh/AAAAAAAASEAAAAAAAIBGQAAAAAAAAEZAAAAAAAAARkAAAAAAAIBEQAAAAAAAAEVAAAAAAACAREAAAAAAAABFQAAAAAAAgEFAAAAAAACAQEAAAAAAAAD4fwAAAAAAAPh/AAAAAAAARUAAAAAAAABAQAAAAAAAgEBAAAAAAAAAPUAAAAAAAAA+QAAAAAAAgEBAAAAAAAAAN0AAAAAAAAA1QAAAAAAAADFAAAAAAAAAJEA=",
          "dtype": "f8"
         },
         "yaxis": "y"
        },
        {
         "hovertemplate": "<b>%{hovertext}</b><br><br>Season=2016-17<br>3P%=%{x}<br>W=%{y}<extra></extra>",
         "hovertext": [
          "Golden State Warriors",
          "San Antonio Spurs",
          "Houston Rockets",
          "Toronto Raptors",
          "Los Angeles Clippers",
          "Utah Jazz",
          "Cleveland Cavaliers",
          "Boston Celtics",
          "Washington Wizards",
          "Miami Heat",
          "Team",
          "Team",
          "Oklahoma City Thunder",
          "Memphis Grizzlies",
          "Denver Nuggets",
          "Chicago Bulls",
          "Charlotte Hornets",
          "Indiana Pacers",
          "Milwaukee Bucks",
          "Portland Trail Blazers",
          "Atlanta Hawks",
          "Detroit Pistons",
          "Team",
          "Team",
          "Minnesota Timberwolves",
          "New Orleans Pelicans",
          "Dallas Mavericks",
          "New York Knicks",
          "Sacramento Kings",
          "Phoenix Suns",
          "Philadelphia 76ers",
          "Brooklyn Nets",
          "Orlando Magic",
          "Los Angeles Lakers"
         ],
         "legendgroup": "2016-17",
         "marker": {
          "color": "#B6E880",
          "symbol": "circle"
         },
         "mode": "markers",
         "name": "2016-17",
         "orientation": "v",
         "showlegend": true,
         "type": "scatter",
         "x": {
          "bdata": "UI2XbhKD2D+gGi/dJAbZPwwCK4cW2dY/CKwcWmQ71z8AAAAAAADYPwIrhxbZztc/+n5qvHST2D9g5dAi2/nWPwIrhxbZztc/XI/C9Shc1z8AAAAAAAD4fwAAAAAAAPh/IbByaJHt1D8OLbKd76fWP1pkO99Pjdc/w/UoXI/C1T8QWDm0yHbWP6rx0k1iENg/rkfhehSu1z8AAAAAAADYP23n+6nx0tU/H4XrUbge1T8AAAAAAAD4fwAAAAAAAPh/vHSTGARW1j9mZmZmZmbWP7gehetRuNY/EoPAyqFF1j+q8dJNYhDYP3Noke18P9U/w/UoXI/C1T9vEoPAyqHVP8uhRbbz/dQ/vp8aL90k1j8=",
          "dtype": "f8"
         },
         "xaxis": "x",
         "y": {
          "bdata": "AAAAAADAUEAAAAAAAIBOQAAAAAAAgEtAAAAAAACASUAAAAAAAIBJQAAAAAAAgElAAAAAAACASUAAAAAAAIBKQAAAAAAAgEhAAAAAAACAREAAAAAAAAD4fwAAAAAAAPh/AAAAAACAR0AAAAAAAIBFQAAAAAAAAERAAAAAAACAREAAAAAAAABCQAAAAAAAAEVAAAAAAAAARUAAAAAAAIBEQAAAAAAAgEVAAAAAAACAQkAAAAAAAAD4fwAAAAAAAPh/AAAAAAAAP0AAAAAAAABBQAAAAAAAgEBAAAAAAAAAP0AAAAAAAABAQAAAAAAAADhAAAAAAAAAPEAAAAAAAAA0QAAAAAAAAD1AAAAAAAAAOkA=",
          "dtype": "f8"
         },
         "yaxis": "y"
        },
        {
         "hovertemplate": "<b>%{hovertext}</b><br><br>Season=2017-18<br>3P%=%{x}<br>W=%{y}<extra></extra>",
         "hovertext": [
          "Houston Rockets",
          "Toronto Raptors",
          "Golden State Warriors",
          "Utah Jazz",
          "Philadelphia 76ers",
          "Boston Celtics",
          "Oklahoma City Thunder",
          "San Antonio Spurs",
          "Portland Trail Blazers",
          "Minnesota Timberwolves",
          "Team",
          "Team",
          "Denver Nuggets",
          "Indiana Pacers",
          "New Orleans Pelicans",
          "Cleveland Cavaliers",
          "Washington Wizards",
          "Miami Heat",
          "Charlotte Hornets",
          "Los Angeles Clippers",
          "Detroit Pistons",
          "Milwaukee Bucks",
          "Team",
          "Team",
          "Los Angeles Lakers",
          "Dallas Mavericks",
          "New York Knicks",
          "Brooklyn Nets",
          "Orlando Magic",
          "Atlanta Hawks",
          "Memphis Grizzlies",
          "Chicago Bulls",
          "Sacramento Kings",
          "Phoenix Suns"
         ],
         "legendgroup": "2017-18",
         "marker": {
          "color": "#FF97FF",
          "symbol": "circle"
         },
         "mode": "markers",
         "name": "2017-18",
         "orientation": "v",
         "showlegend": true,
         "type": "scatter",
         "x": {
          "bdata": "XrpJDAIr1z+28/3UeOnWP6AaL90kBtk/BoGVQ4ts1z8EVg4tsp3XP1TjpZvEINg/Di2yne+n1j+6SQwCK4fWPwaBlUOLbNc/DAIrhxbZ1j8AAAAAAAD4fwAAAAAAAPh/WDm0yHa+1z8EVg4tsp3XP166SQwCK9c/AiuHFtnO1z8AAAAAAADYPwrXo3A9Ctc/BFYOLbKd1z8OLbKd76fWP6wcWmQ739c/uB6F61G41j8AAAAAAAD4fwAAAAAAAPh/FK5H4XoU1j8K16NwPQrXP7pJDAIrh9Y/YhBYObTI1j8QWDm0yHbWPwrXo3A9Ctc/ukkMAiuH1j+4HoXrUbjWPwAAAAAAANg/x0s3iUFg1T8=",
          "dtype": "f8"
         },
         "xaxis": "x",
         "y": {
          "bdata": "AAAAAABAUEAAAAAAAIBNQAAAAAAAAE1AAAAAAAAASEAAAAAAAABKQAAAAAAAgEtAAAAAAAAASEAAAAAAAIBHQAAAAAAAgEhAAAAAAACAR0AAAAAAAAD4fwAAAAAAAPh/AAAAAAAAR0AAAAAAAABIQAAAAAAAAEhAAAAAAAAASUAAAAAAAIBFQAAAAAAAAEZAAAAAAAAAQkAAAAAAAABFQAAAAAAAgENAAAAAAAAARkAAAAAAAAD4fwAAAAAAAPh/AAAAAACAQUAAAAAAAAA4QAAAAAAAAD1AAAAAAAAAPEAAAAAAAAA5QAAAAAAAADhAAAAAAAAANkAAAAAAAAA7QAAAAAAAADtAAAAAAAAANUA=",
          "dtype": "f8"
         },
         "yaxis": "y"
        },
        {
         "hovertemplate": "<b>%{hovertext}</b><br><br>Season=2018-19<br>3P%=%{x}<br>W=%{y}<extra></extra>",
         "hovertext": [
          "Milwaukee Bucks",
          "Golden State Warriors",
          "Toronto Raptors",
          "Utah Jazz",
          "Houston Rockets",
          "Boston Celtics",
          "Portland Trail Blazers",
          "Denver Nuggets",
          "Indiana Pacers",
          "Oklahoma City Thunder",
          "Team",
          "Team",
          "Philadelphia 76ers",
          "San Antonio Spurs",
          "Los Angeles Clippers",
          "Orlando Magic",
          "Brooklyn Nets",
          "Detroit Pistons",
          "Miami Heat",
          "Sacramento Kings",
          "Charlotte Hornets",
          "New Orleans Pelicans",
          "Team",
          "Team",
          "Dallas Mavericks",
          "Minnesota Timberwolves",
          "Los Angeles Lakers",
          "Memphis Grizzlies",
          "Washington Wizards",
          "Atlanta Hawks",
          "Chicago Bulls",
          "New York Knicks",
          "Phoenix Suns",
          "Cleveland Cavaliers"
         ],
         "legendgroup": "2018-19",
         "marker": {
          "color": "#FECB52",
          "symbol": "circle"
         },
         "mode": "markers",
         "name": "2018-19",
         "orientation": "v",
         "showlegend": true,
         "type": "scatter",
         "x": {
          "bdata": "ZDvfT42X1j+kcD0K16PYPwaBlUOLbNc/YhBYObTI1j9iEFg5tMjWP1yPwvUoXNc/YOXQItv51j8QWDm0yHbWP1YOLbKd79c/EoPAyqFF1j8AAAAAAAD4fwAAAAAAAPh/YOXQItv51j9KDAIrhxbZP6JFtvP91Ng/YhBYObTI1j9kO99PjZfWPxKDwMqhRdY/vHSTGARW1j/+1HjpJjHYPxBYObTIdtY/arx0kxgE1j8AAAAAAAD4fwAAAAAAAPh/w/UoXI/C1T8QWDm0yHbWPx1aZDvfT9U/F9nO91Pj1T9t5/up8dLVP7pJDAIrh9Y/EFg5tMh21j/D9Shcj8LVP3WTGARWDtU/uB6F61G41j8=",
          "dtype": "f8"
         },
         "xaxis": "x",
         "y": {
          "bdata": "AAAAAAAATkAAAAAAAIBMQAAAAAAAAE1AAAAAAAAASUAAAAAAAIBKQAAAAAAAgEhAAAAAAACASkAAAAAAAABLQAAAAAAAAEhAAAAAAACASEAAAAAAAAD4fwAAAAAAAPh/AAAAAACASUAAAAAAAABIQAAAAAAAAEhAAAAAAAAARUAAAAAAAABFQAAAAAAAgERAAAAAAACAQ0AAAAAAAIBDQAAAAAAAgENAAAAAAACAQEAAAAAAAAD4fwAAAAAAAPh/AAAAAACAQEAAAAAAAABCQAAAAAAAgEJAAAAAAACAQEAAAAAAAABAQAAAAAAAAD1AAAAAAAAANkAAAAAAAAAxQAAAAAAAADNAAAAAAAAAM0A=",
          "dtype": "f8"
         },
         "yaxis": "y"
        },
        {
         "hovertemplate": "<b>%{hovertext}</b><br><br>Season=2019-20<br>3P%=%{x}<br>W=%{y}<extra></extra>",
         "hovertext": [
          "Milwaukee Bucks",
          "Boston Celtics",
          "Los Angeles Clippers",
          "Toronto Raptors",
          "Los Angeles Lakers",
          "Dallas Mavericks",
          "Miami Heat",
          "Houston Rockets",
          "Utah Jazz",
          "Philadelphia 76ers",
          "Team",
          "Team",
          "Denver Nuggets",
          "Indiana Pacers",
          "Oklahoma City Thunder",
          "Phoenix Suns",
          "Brooklyn Nets",
          "Orlando Magic",
          "San Antonio Spurs",
          "Memphis Grizzlies",
          "Portland Trail Blazers",
          "New Orleans Pelicans",
          "Team",
          "Team",
          "Sacramento Kings",
          "Chicago Bulls",
          "Detroit Pistons",
          "Minnesota Timberwolves",
          "Washington Wizards",
          "New York Knicks",
          "Charlotte Hornets",
          "Atlanta Hawks",
          "Cleveland Cavaliers",
          "Golden State Warriors"
         ],
         "legendgroup": "2019-20",
         "marker": {
          "color": "#636efa",
          "symbol": "circle"
         },
         "mode": "markers",
         "name": "2019-20",
         "orientation": "v",
         "showlegend": true,
         "type": "scatter",
         "x": {
          "bdata": "uB6F61G41j+yne+nxkvXP1g5tMh2vtc/Vg4tsp3v1z+8dJMYBFbWP7ByaJHtfNc/qMZLN4lB2D8UrkfhehTWP1K4HoXrUdg/WmQ730+N1z8AAAAAAAD4fwAAAAAAAPh/YOXQItv51j8IrBxaZDvXP7gehetRuNY/tvP91Hjp1j/ByqFFtvPVP8HKoUW289U/qvHSTWIQ2D9oke18PzXWP1TjpZvEINg/rkfhehSu1z8AAAAAAAD4fwAAAAAAAPh/sp3vp8ZL1z8Sg8DKoUXWP7ByaJHtfNc/Gy/dJAaB1T9aZDvfT43XP8UgsHJokdU/ukkMAiuH1j8dWmQ730/VPxBYObTIdtY/x0s3iUFg1T8=",
          "dtype": "f8"
         },
         "xaxis": "x",
         "y": {
          "bdata": "AAAAAAAATEAAAAAAAABIQAAAAAAAgEhAAAAAAACASkAAAAAAAABKQAAAAAAAgEVAAAAAAAAARkAAAAAAAABGQAAAAAAAAEZAAAAAAACARUAAAAAAAAD4fwAAAAAAAPh/AAAAAAAAR0AAAAAAAIBGQAAAAAAAAEZAAAAAAAAAQUAAAAAAAIBBQAAAAAAAgEBAAAAAAAAAQEAAAAAAAABBQAAAAAAAgEFAAAAAAAAAPkAAAAAAAAD4fwAAAAAAAPh/AAAAAAAAP0AAAAAAAAA2QAAAAAAAADRAAAAAAAAAM0AAAAAAAAA5QAAAAAAAADVAAAAAAAAAN0AAAAAAAAA0QAAAAAAAADNAAAAAAAAALkA=",
          "dtype": "f8"
         },
         "yaxis": "y"
        },
        {
         "hovertemplate": "<b>%{hovertext}</b><br><br>Season=2020-21<br>3P%=%{x}<br>W=%{y}<extra></extra>",
         "hovertext": [
          "Utah Jazz",
          "Los Angeles Clippers",
          "Phoenix Suns",
          "Milwaukee Bucks",
          "Philadelphia 76ers",
          "Denver Nuggets",
          "Brooklyn Nets",
          "Los Angeles Lakers",
          "Dallas Mavericks",
          "New York Knicks",
          "Team",
          "Team",
          "Atlanta Hawks",
          "Portland Trail Blazers",
          "Boston Celtics",
          "Golden State Warriors",
          "Memphis Grizzlies",
          "Miami Heat",
          "Indiana Pacers",
          "New Orleans Pelicans",
          "Toronto Raptors",
          "Chicago Bulls",
          "Team",
          "Team",
          "San Antonio Spurs",
          "Washington Wizards",
          "Charlotte Hornets",
          "Sacramento Kings",
          "Detroit Pistons",
          "Minnesota Timberwolves",
          "Houston Rockets",
          "Cleveland Cavaliers",
          "Orlando Magic",
          "Oklahoma City Thunder"
         ],
         "legendgroup": "2020-21",
         "marker": {
          "color": "#EF553B",
          "symbol": "circle"
         },
         "mode": "markers",
         "name": "2020-21",
         "orientation": "v",
         "showlegend": true,
         "type": "scatter",
         "x": {
          "bdata": "TDeJQWDl2D/n+6nx0k3aP/7UeOkmMdg/TDeJQWDl2D9WDi2yne/XP1TjpZvEINg/SgwCK4cW2T8OLbKd76fWP166SQwCK9c/SgwCK4cW2T8AAAAAAAD4fwAAAAAAAPh/rBxaZDvf1z+kcD0K16PYP1YOLbKd79c/qvHSTWIQ2D9iEFg5tMjWP7bz/dR46dY/sp3vp8ZL1z8Sg8DKoUXWP1pkO99Pjdc/rkfhehSu1z8AAAAAAAD4fwAAAAAAAPh/ZmZmZmZm1j8QWDm0yHbWPwRWDi2yndc/sp3vp8ZL1z8QWDm0yHbWP7x0kxgEVtY/GQRWDi2y1T8bL90kBoHVP8HKoUW289U/GQRWDi2y1T8=",
          "dtype": "f8"
         },
         "xaxis": "x",
         "y": {
          "bdata": "AAAAAAAASkAAAAAAAIBHQAAAAAAAgElAAAAAAAAAR0AAAAAAAIBIQAAAAAAAgEdAAAAAAAAASEAAAAAAAABFQAAAAAAAAEVAAAAAAACAREAAAAAAAAD4fwAAAAAAAPh/AAAAAACAREAAAAAAAABFQAAAAAAAAEJAAAAAAACAQ0AAAAAAAABDQAAAAAAAAERAAAAAAAAAQUAAAAAAAAA/QAAAAAAAADtAAAAAAAAAP0AAAAAAAAD4fwAAAAAAAPh/AAAAAACAQEAAAAAAAABBQAAAAAAAgEBAAAAAAAAAP0AAAAAAAAA0QAAAAAAAADdAAAAAAAAAMUAAAAAAAAA2QAAAAAAAADVAAAAAAAAANkA=",
          "dtype": "f8"
         },
         "yaxis": "y"
        },
        {
         "hovertemplate": "<b>%{hovertext}</b><br><br>Season=2021-22<br>3P%=%{x}<br>W=%{y}<extra></extra>",
         "hovertext": [
          "Boston Celtics",
          "Phoenix Suns",
          "Utah Jazz",
          "Memphis Grizzlies",
          "Golden State Warriors",
          "Miami Heat",
          "Dallas Mavericks",
          "Milwaukee Bucks",
          "Philadelphia 76ers",
          "Minnesota Timberwolves",
          "Team",
          "Team",
          "Denver Nuggets",
          "Toronto Raptors",
          "Cleveland Cavaliers",
          "Atlanta Hawks",
          "Brooklyn Nets",
          "Charlotte Hornets",
          "San Antonio Spurs",
          "Los Angeles Clippers",
          "New York Knicks",
          "Chicago Bulls",
          "Team",
          "Team",
          "New Orleans Pelicans",
          "Los Angeles Lakers",
          "Washington Wizards",
          "Indiana Pacers",
          "Sacramento Kings",
          "Detroit Pistons",
          "Orlando Magic",
          "Oklahoma City Thunder",
          "Houston Rockets",
          "Portland Trail Blazers"
         ],
         "legendgroup": "2021-22",
         "marker": {
          "color": "#00cc96",
          "symbol": "circle"
         },
         "mode": "markers",
         "name": "2021-22",
         "orientation": "v",
         "showlegend": true,
         "type": "scatter",
         "x": {
          "bdata": "YhBYObTI1j+yne+nxkvXPwrXo3A9Ctc/ZDvfT42X1j+yne+nxkvXP6jGSzeJQdg/ZmZmZmZm1j8GgZVDi2zXP7Kd76fGS9c/tvP91Hjp1j8AAAAAAAD4fwAAAAAAAPh/ZDvfT42X1j+8dJMYBFbWP7gehetRuNY/Vg4tsp3v1z+0yHa+nxrXP1yPwvUoXNc/ukkMAiuH1j9WDi2yne/XPwwCK4cW2dY/BFYOLbKd1z8AAAAAAAD4fwAAAAAAAPh/c2iR7Xw/1T9oke18PzXWPxfZzvdT49U/arx0kxgE1j9qvHSTGATWP3e+nxov3dQ/yXa+nxov1T956SYxCKzUP7x0kxgEVtY/vp8aL90k1j8=",
          "dtype": "f8"
         },
         "xaxis": "x",
         "y": {
          "bdata": "AAAAAACASUAAAAAAAABQQAAAAAAAgEhAAAAAAAAATEAAAAAAAIBKQAAAAAAAgEpAAAAAAAAASkAAAAAAAIBJQAAAAAAAgElAAAAAAAAAR0AAAAAAAAD4fwAAAAAAAPh/AAAAAAAASEAAAAAAAABIQAAAAAAAAEZAAAAAAACARUAAAAAAAABGQAAAAAAAgEVAAAAAAAAAQUAAAAAAAABFQAAAAAAAgEJAAAAAAAAAR0AAAAAAAAD4fwAAAAAAAPh/AAAAAAAAQkAAAAAAAIBAQAAAAAAAgEFAAAAAAAAAOUAAAAAAAAA+QAAAAAAAADdAAAAAAAAANkAAAAAAAAA4QAAAAAAAADRAAAAAAAAAO0A=",
          "dtype": "f8"
         },
         "yaxis": "y"
        },
        {
         "hovertemplate": "<b>%{hovertext}</b><br><br>Season=2022-23<br>3P%=%{x}<br>W=%{y}<extra></extra>",
         "hovertext": [
          "Boston Celtics",
          "Cleveland Cavaliers",
          "Philadelphia 76ers",
          "Memphis Grizzlies",
          "Milwaukee Bucks",
          "Denver Nuggets",
          "New York Knicks",
          "Sacramento Kings",
          "Phoenix Suns",
          "New Orleans Pelicans",
          "Team",
          "Team",
          "Golden State Warriors",
          "Toronto Raptors",
          "Chicago Bulls",
          "Oklahoma City Thunder",
          "Brooklyn Nets",
          "Los Angeles Lakers",
          "Los Angeles Clippers",
          "Atlanta Hawks",
          "Dallas Mavericks",
          "Minnesota Timberwolves",
          "Team",
          "Team",
          "Miami Heat",
          "Utah Jazz",
          "Washington Wizards",
          "Orlando Magic",
          "Indiana Pacers",
          "Portland Trail Blazers",
          "Charlotte Hornets",
          "Houston Rockets",
          "Detroit Pistons",
          "San Antonio Spurs"
         ],
         "legendgroup": "2022-23",
         "marker": {
          "color": "#ab63fa",
          "symbol": "circle"
         },
         "mode": "markers",
         "name": "2022-23",
         "orientation": "v",
         "showlegend": true,
         "type": "scatter",
         "x": {
          "bdata": "VOOlm8Qg2D+wcmiR7XzXP/hT46WbxNg/EFg5tMh21j9aZDvfT43XP6jGSzeJQdg/Di2yne+n1j8EVg4tsp3XP1YOLbKd79c/sp3vp8ZL1z8AAAAAAAD4fwAAAAAAAPh/pHA9Ctej2D9xPQrXo3DVP7TIdr6fGtc/YhBYObTI1j/+1HjpJjHYP76fGi/dJNY//Knx0k1i2D+6SQwCK4fWP1g5tMh2vtc/XI/C9Shc1z8AAAAAAAD4fwAAAAAAAPh/arx0kxgE1j9kO99PjZfWP2IQWDm0yNY/vp8aL90k1j+wcmiR7XzXP1yPwvUoXNc/H4XrUbge1T8hsHJoke3UPxBYObTIdtY/FK5H4XoU1j8=",
          "dtype": "f8"
         },
         "xaxis": "x",
         "y": {
          "bdata": "AAAAAACATEAAAAAAAIBJQAAAAAAAAEtAAAAAAACASUAAAAAAAABNQAAAAAAAgEpAAAAAAACAR0AAAAAAAABIQAAAAAAAgEZAAAAAAAAARUAAAAAAAAD4fwAAAAAAAPh/AAAAAAAARkAAAAAAAIBEQAAAAAAAAERAAAAAAAAAREAAAAAAAIBGQAAAAAAAgEVAAAAAAAAARkAAAAAAAIBEQAAAAAAAAENAAAAAAAAARUAAAAAAAAD4fwAAAAAAAPh/AAAAAAAARkAAAAAAAIBCQAAAAAAAgEFAAAAAAAAAQUAAAAAAAIBBQAAAAAAAgEBAAAAAAAAAO0AAAAAAAAA2QAAAAAAAADFAAAAAAAAANkA=",
          "dtype": "f8"
         },
         "yaxis": "y"
        },
        {
         "hovertemplate": "<b>%{hovertext}</b><br><br>Season=2023-24<br>3P%=%{x}<br>W=%{y}<extra></extra>",
         "hovertext": [
          "Boston Celtics",
          "Oklahoma City Thunder",
          "Minnesota Timberwolves",
          "Denver Nuggets",
          "New York Knicks",
          "New Orleans Pelicans",
          "Los Angeles Clippers",
          "Philadelphia 76ers",
          "Phoenix Suns",
          "Indiana Pacers",
          "Team",
          "Team",
          "Golden State Warriors",
          "Milwaukee Bucks",
          "Cleveland Cavaliers",
          "Dallas Mavericks",
          "Orlando Magic",
          "Miami Heat",
          "Sacramento Kings",
          "Houston Rockets",
          "Los Angeles Lakers",
          "Chicago Bulls",
          "Team",
          "Team",
          "Atlanta Hawks",
          "Brooklyn Nets",
          "Utah Jazz",
          "San Antonio Spurs",
          "Toronto Raptors",
          "Memphis Grizzlies",
          "Detroit Pistons",
          "Washington Wizards",
          "Portland Trail Blazers",
          "Charlotte Hornets"
         ],
         "legendgroup": "2023-24",
         "marker": {
          "color": "#FFA15A",
          "symbol": "circle"
         },
         "mode": "markers",
         "name": "2023-24",
         "orientation": "v",
         "showlegend": true,
         "type": "scatter",
         "x": {
          "bdata": "okW28/3U2D9MN4lBYOXYP/hT46WbxNg/Vg4tsp3v1z8EVg4tsp3XP1CNl24Sg9g//Knx0k1i2D8IrBxaZDvXP6abxCCwctg/Vg4tsp3v1z8AAAAAAAD4fwAAAAAAAPh/UrgehetR2D+sHFpkO9/XP7ByaJHtfNc/BFYOLbKd1z+6SQwCK4fWP65H4XoUrtc/BoGVQ4ts1z+6SQwCK4fWP1TjpZvEINg/tvP91Hjp1j8AAAAAAAD4fwAAAAAAAPh/sp3vp8ZL1z9eukkMAivXPw4tsp3vp9Y/aJHtfD811j9oke18PzXWP76fGi/dJNY/EoPAyqFF1j8Sg8DKoUXWPxSuR+F6FNY/uB6F61G41j8=",
          "dtype": "f8"
         },
         "xaxis": "x",
         "y": {
          "bdata": "AAAAAAAAUEAAAAAAAIBMQAAAAAAAAExAAAAAAACATEAAAAAAAABJQAAAAAAAgEhAAAAAAACASUAAAAAAAIBHQAAAAAAAgEhAAAAAAACAR0AAAAAAAAD4fwAAAAAAAPh/AAAAAAAAR0AAAAAAAIBIQAAAAAAAAEhAAAAAAAAASUAAAAAAAIBHQAAAAAAAAEdAAAAAAAAAR0AAAAAAAIBEQAAAAAAAgEdAAAAAAACAQ0AAAAAAAAD4fwAAAAAAAPh/AAAAAAAAQkAAAAAAAABAQAAAAAAAAD9AAAAAAAAANkAAAAAAAAA5QAAAAAAAADtAAAAAAAAALEAAAAAAAAAuQAAAAAAAADVAAAAAAAAANUA=",
          "dtype": "f8"
         },
         "yaxis": "y"
        }
       ],
       "layout": {
        "legend": {
         "title": {
          "text": "Season"
         },
         "tracegroupgap": 0
        },
        "margin": {
         "t": 60
        },
        "template": {
         "data": {
          "bar": [
           {
            "error_x": {
             "color": "#2a3f5f"
            },
            "error_y": {
             "color": "#2a3f5f"
            },
            "marker": {
             "line": {
              "color": "#E5ECF6",
              "width": 0.5
             },
             "pattern": {
              "fillmode": "overlay",
              "size": 10,
              "solidity": 0.2
             }
            },
            "type": "bar"
           }
          ],
          "barpolar": [
           {
            "marker": {
             "line": {
              "color": "#E5ECF6",
              "width": 0.5
             },
             "pattern": {
              "fillmode": "overlay",
              "size": 10,
              "solidity": 0.2
             }
            },
            "type": "barpolar"
           }
          ],
          "carpet": [
           {
            "aaxis": {
             "endlinecolor": "#2a3f5f",
             "gridcolor": "white",
             "linecolor": "white",
             "minorgridcolor": "white",
             "startlinecolor": "#2a3f5f"
            },
            "baxis": {
             "endlinecolor": "#2a3f5f",
             "gridcolor": "white",
             "linecolor": "white",
             "minorgridcolor": "white",
             "startlinecolor": "#2a3f5f"
            },
            "type": "carpet"
           }
          ],
          "choropleth": [
           {
            "colorbar": {
             "outlinewidth": 0,
             "ticks": ""
            },
            "type": "choropleth"
           }
          ],
          "contour": [
           {
            "colorbar": {
             "outlinewidth": 0,
             "ticks": ""
            },
            "colorscale": [
             [
              0,
              "#0d0887"
             ],
             [
              0.1111111111111111,
              "#46039f"
             ],
             [
              0.2222222222222222,
              "#7201a8"
             ],
             [
              0.3333333333333333,
              "#9c179e"
             ],
             [
              0.4444444444444444,
              "#bd3786"
             ],
             [
              0.5555555555555556,
              "#d8576b"
             ],
             [
              0.6666666666666666,
              "#ed7953"
             ],
             [
              0.7777777777777778,
              "#fb9f3a"
             ],
             [
              0.8888888888888888,
              "#fdca26"
             ],
             [
              1,
              "#f0f921"
             ]
            ],
            "type": "contour"
           }
          ],
          "contourcarpet": [
           {
            "colorbar": {
             "outlinewidth": 0,
             "ticks": ""
            },
            "type": "contourcarpet"
           }
          ],
          "heatmap": [
           {
            "colorbar": {
             "outlinewidth": 0,
             "ticks": ""
            },
            "colorscale": [
             [
              0,
              "#0d0887"
             ],
             [
              0.1111111111111111,
              "#46039f"
             ],
             [
              0.2222222222222222,
              "#7201a8"
             ],
             [
              0.3333333333333333,
              "#9c179e"
             ],
             [
              0.4444444444444444,
              "#bd3786"
             ],
             [
              0.5555555555555556,
              "#d8576b"
             ],
             [
              0.6666666666666666,
              "#ed7953"
             ],
             [
              0.7777777777777778,
              "#fb9f3a"
             ],
             [
              0.8888888888888888,
              "#fdca26"
             ],
             [
              1,
              "#f0f921"
             ]
            ],
            "type": "heatmap"
           }
          ],
          "histogram": [
           {
            "marker": {
             "pattern": {
              "fillmode": "overlay",
              "size": 10,
              "solidity": 0.2
             }
            },
            "type": "histogram"
           }
          ],
          "histogram2d": [
           {
            "colorbar": {
             "outlinewidth": 0,
             "ticks": ""
            },
            "colorscale": [
             [
              0,
              "#0d0887"
             ],
             [
              0.1111111111111111,
              "#46039f"
             ],
             [
              0.2222222222222222,
              "#7201a8"
             ],
             [
              0.3333333333333333,
              "#9c179e"
             ],
             [
              0.4444444444444444,
              "#bd3786"
             ],
             [
              0.5555555555555556,
              "#d8576b"
             ],
             [
              0.6666666666666666,
              "#ed7953"
             ],
             [
              0.7777777777777778,
              "#fb9f3a"
             ],
             [
              0.8888888888888888,
              "#fdca26"
             ],
             [
              1,
              "#f0f921"
             ]
            ],
            "type": "histogram2d"
           }
          ],
          "histogram2dcontour": [
           {
            "colorbar": {
             "outlinewidth": 0,
             "ticks": ""
            },
            "colorscale": [
             [
              0,
              "#0d0887"
             ],
             [
              0.1111111111111111,
              "#46039f"
             ],
             [
              0.2222222222222222,
              "#7201a8"
             ],
             [
              0.3333333333333333,
              "#9c179e"
             ],
             [
              0.4444444444444444,
              "#bd3786"
             ],
             [
              0.5555555555555556,
              "#d8576b"
             ],
             [
              0.6666666666666666,
              "#ed7953"
             ],
             [
              0.7777777777777778,
              "#fb9f3a"
             ],
             [
              0.8888888888888888,
              "#fdca26"
             ],
             [
              1,
              "#f0f921"
             ]
            ],
            "type": "histogram2dcontour"
           }
          ],
          "mesh3d": [
           {
            "colorbar": {
             "outlinewidth": 0,
             "ticks": ""
            },
            "type": "mesh3d"
           }
          ],
          "parcoords": [
           {
            "line": {
             "colorbar": {
              "outlinewidth": 0,
              "ticks": ""
             }
            },
            "type": "parcoords"
           }
          ],
          "pie": [
           {
            "automargin": true,
            "type": "pie"
           }
          ],
          "scatter": [
           {
            "fillpattern": {
             "fillmode": "overlay",
             "size": 10,
             "solidity": 0.2
            },
            "type": "scatter"
           }
          ],
          "scatter3d": [
           {
            "line": {
             "colorbar": {
              "outlinewidth": 0,
              "ticks": ""
             }
            },
            "marker": {
             "colorbar": {
              "outlinewidth": 0,
              "ticks": ""
             }
            },
            "type": "scatter3d"
           }
          ],
          "scattercarpet": [
           {
            "marker": {
             "colorbar": {
              "outlinewidth": 0,
              "ticks": ""
             }
            },
            "type": "scattercarpet"
           }
          ],
          "scattergeo": [
           {
            "marker": {
             "colorbar": {
              "outlinewidth": 0,
              "ticks": ""
             }
            },
            "type": "scattergeo"
           }
          ],
          "scattergl": [
           {
            "marker": {
             "colorbar": {
              "outlinewidth": 0,
              "ticks": ""
             }
            },
            "type": "scattergl"
           }
          ],
          "scattermap": [
           {
            "marker": {
             "colorbar": {
              "outlinewidth": 0,
              "ticks": ""
             }
            },
            "type": "scattermap"
           }
          ],
          "scattermapbox": [
           {
            "marker": {
             "colorbar": {
              "outlinewidth": 0,
              "ticks": ""
             }
            },
            "type": "scattermapbox"
           }
          ],
          "scatterpolar": [
           {
            "marker": {
             "colorbar": {
              "outlinewidth": 0,
              "ticks": ""
             }
            },
            "type": "scatterpolar"
           }
          ],
          "scatterpolargl": [
           {
            "marker": {
             "colorbar": {
              "outlinewidth": 0,
              "ticks": ""
             }
            },
            "type": "scatterpolargl"
           }
          ],
          "scatterternary": [
           {
            "marker": {
             "colorbar": {
              "outlinewidth": 0,
              "ticks": ""
             }
            },
            "type": "scatterternary"
           }
          ],
          "surface": [
           {
            "colorbar": {
             "outlinewidth": 0,
             "ticks": ""
            },
            "colorscale": [
             [
              0,
              "#0d0887"
             ],
             [
              0.1111111111111111,
              "#46039f"
             ],
             [
              0.2222222222222222,
              "#7201a8"
             ],
             [
              0.3333333333333333,
              "#9c179e"
             ],
             [
              0.4444444444444444,
              "#bd3786"
             ],
             [
              0.5555555555555556,
              "#d8576b"
             ],
             [
              0.6666666666666666,
              "#ed7953"
             ],
             [
              0.7777777777777778,
              "#fb9f3a"
             ],
             [
              0.8888888888888888,
              "#fdca26"
             ],
             [
              1,
              "#f0f921"
             ]
            ],
            "type": "surface"
           }
          ],
          "table": [
           {
            "cells": {
             "fill": {
              "color": "#EBF0F8"
             },
             "line": {
              "color": "white"
             }
            },
            "header": {
             "fill": {
              "color": "#C8D4E3"
             },
             "line": {
              "color": "white"
             }
            },
            "type": "table"
           }
          ]
         },
         "layout": {
          "annotationdefaults": {
           "arrowcolor": "#2a3f5f",
           "arrowhead": 0,
           "arrowwidth": 1
          },
          "autotypenumbers": "strict",
          "coloraxis": {
           "colorbar": {
            "outlinewidth": 0,
            "ticks": ""
           }
          },
          "colorscale": {
           "diverging": [
            [
             0,
             "#8e0152"
            ],
            [
             0.1,
             "#c51b7d"
            ],
            [
             0.2,
             "#de77ae"
            ],
            [
             0.3,
             "#f1b6da"
            ],
            [
             0.4,
             "#fde0ef"
            ],
            [
             0.5,
             "#f7f7f7"
            ],
            [
             0.6,
             "#e6f5d0"
            ],
            [
             0.7,
             "#b8e186"
            ],
            [
             0.8,
             "#7fbc41"
            ],
            [
             0.9,
             "#4d9221"
            ],
            [
             1,
             "#276419"
            ]
           ],
           "sequential": [
            [
             0,
             "#0d0887"
            ],
            [
             0.1111111111111111,
             "#46039f"
            ],
            [
             0.2222222222222222,
             "#7201a8"
            ],
            [
             0.3333333333333333,
             "#9c179e"
            ],
            [
             0.4444444444444444,
             "#bd3786"
            ],
            [
             0.5555555555555556,
             "#d8576b"
            ],
            [
             0.6666666666666666,
             "#ed7953"
            ],
            [
             0.7777777777777778,
             "#fb9f3a"
            ],
            [
             0.8888888888888888,
             "#fdca26"
            ],
            [
             1,
             "#f0f921"
            ]
           ],
           "sequentialminus": [
            [
             0,
             "#0d0887"
            ],
            [
             0.1111111111111111,
             "#46039f"
            ],
            [
             0.2222222222222222,
             "#7201a8"
            ],
            [
             0.3333333333333333,
             "#9c179e"
            ],
            [
             0.4444444444444444,
             "#bd3786"
            ],
            [
             0.5555555555555556,
             "#d8576b"
            ],
            [
             0.6666666666666666,
             "#ed7953"
            ],
            [
             0.7777777777777778,
             "#fb9f3a"
            ],
            [
             0.8888888888888888,
             "#fdca26"
            ],
            [
             1,
             "#f0f921"
            ]
           ]
          },
          "colorway": [
           "#636efa",
           "#EF553B",
           "#00cc96",
           "#ab63fa",
           "#FFA15A",
           "#19d3f3",
           "#FF6692",
           "#B6E880",
           "#FF97FF",
           "#FECB52"
          ],
          "font": {
           "color": "#2a3f5f"
          },
          "geo": {
           "bgcolor": "white",
           "lakecolor": "white",
           "landcolor": "#E5ECF6",
           "showlakes": true,
           "showland": true,
           "subunitcolor": "white"
          },
          "hoverlabel": {
           "align": "left"
          },
          "hovermode": "closest",
          "mapbox": {
           "style": "light"
          },
          "paper_bgcolor": "white",
          "plot_bgcolor": "#E5ECF6",
          "polar": {
           "angularaxis": {
            "gridcolor": "white",
            "linecolor": "white",
            "ticks": ""
           },
           "bgcolor": "#E5ECF6",
           "radialaxis": {
            "gridcolor": "white",
            "linecolor": "white",
            "ticks": ""
           }
          },
          "scene": {
           "xaxis": {
            "backgroundcolor": "#E5ECF6",
            "gridcolor": "white",
            "gridwidth": 2,
            "linecolor": "white",
            "showbackground": true,
            "ticks": "",
            "zerolinecolor": "white"
           },
           "yaxis": {
            "backgroundcolor": "#E5ECF6",
            "gridcolor": "white",
            "gridwidth": 2,
            "linecolor": "white",
            "showbackground": true,
            "ticks": "",
            "zerolinecolor": "white"
           },
           "zaxis": {
            "backgroundcolor": "#E5ECF6",
            "gridcolor": "white",
            "gridwidth": 2,
            "linecolor": "white",
            "showbackground": true,
            "ticks": "",
            "zerolinecolor": "white"
           }
          },
          "shapedefaults": {
           "line": {
            "color": "#2a3f5f"
           }
          },
          "ternary": {
           "aaxis": {
            "gridcolor": "white",
            "linecolor": "white",
            "ticks": ""
           },
           "baxis": {
            "gridcolor": "white",
            "linecolor": "white",
            "ticks": ""
           },
           "bgcolor": "#E5ECF6",
           "caxis": {
            "gridcolor": "white",
            "linecolor": "white",
            "ticks": ""
           }
          },
          "title": {
           "x": 0.05
          },
          "xaxis": {
           "automargin": true,
           "gridcolor": "white",
           "linecolor": "white",
           "ticks": "",
           "title": {
            "standoff": 15
           },
           "zerolinecolor": "white",
           "zerolinewidth": 2
          },
          "yaxis": {
           "automargin": true,
           "gridcolor": "white",
           "linecolor": "white",
           "ticks": "",
           "title": {
            "standoff": 15
           },
           "zerolinecolor": "white",
           "zerolinewidth": 2
          }
         }
        },
        "xaxis": {
         "anchor": "y",
         "domain": [
          0,
          1
         ],
         "title": {
          "text": "3P%"
         }
        },
        "yaxis": {
         "anchor": "x",
         "domain": [
          0,
          1
         ],
         "title": {
          "text": "W"
         }
        }
       }
      }
     },
     "metadata": {},
     "output_type": "display_data"
    }
   ],
   "source": [
    "px.scatter(merged, x=\"3PA\", y=\"W\", color=\"Season\", hover_name=\"Team\")"
   ]
  },
  {
   "cell_type": "code",
   "execution_count": null,
   "id": "33e55ec4",
   "metadata": {},
   "outputs": [],
   "source": []
  }
 ],
 "metadata": {
  "kernelspec": {
   "display_name": "Python 3",
   "language": "python",
   "name": "python3"
  },
  "language_info": {
   "codemirror_mode": {
    "name": "ipython",
    "version": 3
   },
   "file_extension": ".py",
   "mimetype": "text/x-python",
   "name": "python",
   "nbconvert_exporter": "python",
   "pygments_lexer": "ipython3",
   "version": "3.11.9"
  }
 },
 "nbformat": 4,
 "nbformat_minor": 5
}
